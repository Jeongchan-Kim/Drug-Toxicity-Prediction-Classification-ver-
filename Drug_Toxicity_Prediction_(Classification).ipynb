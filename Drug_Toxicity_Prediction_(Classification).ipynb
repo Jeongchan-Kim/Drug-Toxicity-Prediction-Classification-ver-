{
  "nbformat": 4,
  "nbformat_minor": 0,
  "metadata": {
    "colab": {
      "provenance": [],
      "authorship_tag": "ABX9TyP1dGwa7ECNMhPlUCMGJ9E4",
      "include_colab_link": true
    },
    "kernelspec": {
      "name": "python3",
      "display_name": "Python 3"
    },
    "language_info": {
      "name": "python"
    },
    "accelerator": "GPU",
    "gpuClass": "standard"
  },
  "cells": [
    {
      "cell_type": "markdown",
      "metadata": {
        "id": "view-in-github",
        "colab_type": "text"
      },
      "source": [
        "<a href=\"https://colab.research.google.com/github/Jeongchan-Kim/Drug-Toxicity-Prediction-Classification-ver-/blob/main/Drug_Toxicity_Prediction_(Classification).ipynb\" target=\"_parent\"><img src=\"https://colab.research.google.com/assets/colab-badge.svg\" alt=\"Open In Colab\"/></a>"
      ]
    },
    {
      "cell_type": "code",
      "execution_count": null,
      "metadata": {
        "id": "8ZaUKTnONurp",
        "colab": {
          "base_uri": "https://localhost:8080/"
        },
        "outputId": "5b307885-e434-46ef-f66f-2ea27a32f17c"
      },
      "outputs": [
        {
          "output_type": "stream",
          "name": "stdout",
          "text": [
            "Looking in indexes: https://pypi.org/simple, https://us-python.pkg.dev/colab-wheels/public/simple/\n",
            "Requirement already satisfied: PyTDC in /usr/local/lib/python3.10/dist-packages (0.4.0)\n",
            "Requirement already satisfied: tqdm in /usr/local/lib/python3.10/dist-packages (from PyTDC) (4.65.0)\n",
            "Requirement already satisfied: rdkit-pypi in /usr/local/lib/python3.10/dist-packages (from PyTDC) (2022.9.5)\n",
            "Requirement already satisfied: pandas in /usr/local/lib/python3.10/dist-packages (from PyTDC) (1.5.3)\n",
            "Requirement already satisfied: huggingface-hub in /usr/local/lib/python3.10/dist-packages (from PyTDC) (0.14.1)\n",
            "Requirement already satisfied: seaborn in /usr/local/lib/python3.10/dist-packages (from PyTDC) (0.12.2)\n",
            "Requirement already satisfied: requests in /usr/local/lib/python3.10/dist-packages (from PyTDC) (2.27.1)\n",
            "Requirement already satisfied: fuzzywuzzy in /usr/local/lib/python3.10/dist-packages (from PyTDC) (0.18.0)\n",
            "Requirement already satisfied: dataclasses in /usr/local/lib/python3.10/dist-packages (from PyTDC) (0.6)\n",
            "Requirement already satisfied: numpy in /usr/local/lib/python3.10/dist-packages (from PyTDC) (1.22.4)\n",
            "Requirement already satisfied: scikit-learn in /usr/local/lib/python3.10/dist-packages (from PyTDC) (1.2.2)\n",
            "Requirement already satisfied: pyyaml>=5.1 in /usr/local/lib/python3.10/dist-packages (from huggingface-hub->PyTDC) (6.0)\n",
            "Requirement already satisfied: packaging>=20.9 in /usr/local/lib/python3.10/dist-packages (from huggingface-hub->PyTDC) (23.1)\n",
            "Requirement already satisfied: filelock in /usr/local/lib/python3.10/dist-packages (from huggingface-hub->PyTDC) (3.12.0)\n",
            "Requirement already satisfied: fsspec in /usr/local/lib/python3.10/dist-packages (from huggingface-hub->PyTDC) (2023.4.0)\n",
            "Requirement already satisfied: typing-extensions>=3.7.4.3 in /usr/local/lib/python3.10/dist-packages (from huggingface-hub->PyTDC) (4.5.0)\n",
            "Requirement already satisfied: python-dateutil>=2.8.1 in /usr/local/lib/python3.10/dist-packages (from pandas->PyTDC) (2.8.2)\n",
            "Requirement already satisfied: pytz>=2020.1 in /usr/local/lib/python3.10/dist-packages (from pandas->PyTDC) (2022.7.1)\n",
            "Requirement already satisfied: Pillow in /usr/local/lib/python3.10/dist-packages (from rdkit-pypi->PyTDC) (8.4.0)\n",
            "Requirement already satisfied: charset-normalizer~=2.0.0 in /usr/local/lib/python3.10/dist-packages (from requests->PyTDC) (2.0.12)\n",
            "Requirement already satisfied: idna<4,>=2.5 in /usr/local/lib/python3.10/dist-packages (from requests->PyTDC) (3.4)\n",
            "Requirement already satisfied: certifi>=2017.4.17 in /usr/local/lib/python3.10/dist-packages (from requests->PyTDC) (2022.12.7)\n",
            "Requirement already satisfied: urllib3<1.27,>=1.21.1 in /usr/local/lib/python3.10/dist-packages (from requests->PyTDC) (1.26.15)\n",
            "Requirement already satisfied: joblib>=1.1.1 in /usr/local/lib/python3.10/dist-packages (from scikit-learn->PyTDC) (1.2.0)\n",
            "Requirement already satisfied: scipy>=1.3.2 in /usr/local/lib/python3.10/dist-packages (from scikit-learn->PyTDC) (1.10.1)\n",
            "Requirement already satisfied: threadpoolctl>=2.0.0 in /usr/local/lib/python3.10/dist-packages (from scikit-learn->PyTDC) (3.1.0)\n",
            "Requirement already satisfied: matplotlib!=3.6.1,>=3.1 in /usr/local/lib/python3.10/dist-packages (from seaborn->PyTDC) (3.7.1)\n",
            "Requirement already satisfied: cycler>=0.10 in /usr/local/lib/python3.10/dist-packages (from matplotlib!=3.6.1,>=3.1->seaborn->PyTDC) (0.11.0)\n",
            "Requirement already satisfied: kiwisolver>=1.0.1 in /usr/local/lib/python3.10/dist-packages (from matplotlib!=3.6.1,>=3.1->seaborn->PyTDC) (1.4.4)\n",
            "Requirement already satisfied: contourpy>=1.0.1 in /usr/local/lib/python3.10/dist-packages (from matplotlib!=3.6.1,>=3.1->seaborn->PyTDC) (1.0.7)\n",
            "Requirement already satisfied: pyparsing>=2.3.1 in /usr/local/lib/python3.10/dist-packages (from matplotlib!=3.6.1,>=3.1->seaborn->PyTDC) (3.0.9)\n",
            "Requirement already satisfied: fonttools>=4.22.0 in /usr/local/lib/python3.10/dist-packages (from matplotlib!=3.6.1,>=3.1->seaborn->PyTDC) (4.39.3)\n",
            "Requirement already satisfied: six>=1.5 in /usr/local/lib/python3.10/dist-packages (from python-dateutil>=2.8.1->pandas->PyTDC) (1.16.0)\n",
            "Looking in indexes: https://pypi.org/simple, https://us-python.pkg.dev/colab-wheels/public/simple/\n",
            "Requirement already satisfied: lifelines in /usr/local/lib/python3.10/dist-packages (0.27.7)\n",
            "Requirement already satisfied: autograd>=1.5 in /usr/local/lib/python3.10/dist-packages (from lifelines) (1.5)\n",
            "Requirement already satisfied: pandas>=1.0.0 in /usr/local/lib/python3.10/dist-packages (from lifelines) (1.5.3)\n",
            "Requirement already satisfied: numpy>=1.14.0 in /usr/local/lib/python3.10/dist-packages (from lifelines) (1.22.4)\n",
            "Requirement already satisfied: scipy>=1.2.0 in /usr/local/lib/python3.10/dist-packages (from lifelines) (1.10.1)\n",
            "Requirement already satisfied: formulaic>=0.2.2 in /usr/local/lib/python3.10/dist-packages (from lifelines) (0.6.1)\n",
            "Requirement already satisfied: autograd-gamma>=0.3 in /usr/local/lib/python3.10/dist-packages (from lifelines) (0.5.0)\n",
            "Requirement already satisfied: matplotlib>=3.0 in /usr/local/lib/python3.10/dist-packages (from lifelines) (3.7.1)\n",
            "Requirement already satisfied: future>=0.15.2 in /usr/local/lib/python3.10/dist-packages (from autograd>=1.5->lifelines) (0.18.3)\n",
            "Requirement already satisfied: interface-meta>=1.2.0 in /usr/local/lib/python3.10/dist-packages (from formulaic>=0.2.2->lifelines) (1.3.0)\n",
            "Requirement already satisfied: astor>=0.8 in /usr/local/lib/python3.10/dist-packages (from formulaic>=0.2.2->lifelines) (0.8.1)\n",
            "Requirement already satisfied: wrapt>=1.0 in /usr/local/lib/python3.10/dist-packages (from formulaic>=0.2.2->lifelines) (1.14.1)\n",
            "Requirement already satisfied: typing-extensions>=4.2.0 in /usr/local/lib/python3.10/dist-packages (from formulaic>=0.2.2->lifelines) (4.5.0)\n",
            "Requirement already satisfied: packaging>=20.0 in /usr/local/lib/python3.10/dist-packages (from matplotlib>=3.0->lifelines) (23.1)\n",
            "Requirement already satisfied: pillow>=6.2.0 in /usr/local/lib/python3.10/dist-packages (from matplotlib>=3.0->lifelines) (8.4.0)\n",
            "Requirement already satisfied: fonttools>=4.22.0 in /usr/local/lib/python3.10/dist-packages (from matplotlib>=3.0->lifelines) (4.39.3)\n",
            "Requirement already satisfied: cycler>=0.10 in /usr/local/lib/python3.10/dist-packages (from matplotlib>=3.0->lifelines) (0.11.0)\n",
            "Requirement already satisfied: kiwisolver>=1.0.1 in /usr/local/lib/python3.10/dist-packages (from matplotlib>=3.0->lifelines) (1.4.4)\n",
            "Requirement already satisfied: contourpy>=1.0.1 in /usr/local/lib/python3.10/dist-packages (from matplotlib>=3.0->lifelines) (1.0.7)\n",
            "Requirement already satisfied: python-dateutil>=2.7 in /usr/local/lib/python3.10/dist-packages (from matplotlib>=3.0->lifelines) (2.8.2)\n",
            "Requirement already satisfied: pyparsing>=2.3.1 in /usr/local/lib/python3.10/dist-packages (from matplotlib>=3.0->lifelines) (3.0.9)\n",
            "Requirement already satisfied: pytz>=2020.1 in /usr/local/lib/python3.10/dist-packages (from pandas>=1.0.0->lifelines) (2022.7.1)\n",
            "Requirement already satisfied: six>=1.5 in /usr/local/lib/python3.10/dist-packages (from python-dateutil>=2.7->matplotlib>=3.0->lifelines) (1.16.0)\n",
            "Looking in indexes: https://pypi.org/simple, https://us-python.pkg.dev/colab-wheels/public/simple/\n",
            "Requirement already satisfied: rdkit-pypi in /usr/local/lib/python3.10/dist-packages (2022.9.5)\n",
            "Requirement already satisfied: numpy in /usr/local/lib/python3.10/dist-packages (from rdkit-pypi) (1.22.4)\n",
            "Requirement already satisfied: Pillow in /usr/local/lib/python3.10/dist-packages (from rdkit-pypi) (8.4.0)\n"
          ]
        }
      ],
      "source": [
        "!pip install PyTDC\n",
        "!pip install lifelines\n",
        "!pip install rdkit-pypi"
      ]
    },
    {
      "cell_type": "markdown",
      "source": [
        "# **Preparing Data**"
      ],
      "metadata": {
        "id": "fTwem5s-yLPX"
      }
    },
    {
      "cell_type": "code",
      "source": [
        "from tdc.single_pred import Tox\n",
        "\n",
        "# Upload LD50 data using TDC api\n",
        "data = Tox(name = 'LD50_Zhu')\n",
        "# Divide train-valid-test data\n",
        "split = data.get_split()"
      ],
      "metadata": {
        "colab": {
          "base_uri": "https://localhost:8080/"
        },
        "id": "lm06pgLbw-BN",
        "outputId": "4d954dd1-b5ae-4709-bd64-078e64c992d7"
      },
      "execution_count": null,
      "outputs": [
        {
          "output_type": "stream",
          "name": "stderr",
          "text": [
            "Downloading...\n",
            "100%|██████████| 707k/707k [00:00<00:00, 6.37MiB/s]\n",
            "Loading...\n",
            "Done!\n"
          ]
        }
      ]
    },
    {
      "cell_type": "code",
      "source": [
        "# checking divided data\n",
        "split.keys()"
      ],
      "metadata": {
        "colab": {
          "base_uri": "https://localhost:8080/"
        },
        "id": "7hL2rPkqxbSc",
        "outputId": "0ce87c6e-b888-42de-afb2-89f4d8f5c1a9"
      },
      "execution_count": null,
      "outputs": [
        {
          "output_type": "execute_result",
          "data": {
            "text/plain": [
              "dict_keys(['train', 'valid', 'test'])"
            ]
          },
          "metadata": {},
          "execution_count": 8
        }
      ]
    },
    {
      "cell_type": "markdown",
      "source": [
        "# **Data pre-processing**\n",
        "\n",
        "Molecular representations in AI-driven drug discovery: a review and practical guide"
      ],
      "metadata": {
        "id": "mDLKt6A7ygoa"
      }
    },
    {
      "cell_type": "code",
      "source": [
        "from rdkit import Chem, DataStructs\n",
        "from rdkit.Chem import AllChem\n",
        "import numpy as np\n",
        "\n",
        "def smiles2morgan(s, radius = 2, nBits = 1024):\n",
        "    \"\"\"\n",
        "    SMILES data -> morgan fingerprint (vetot of 1024 bits)\n",
        "\n",
        "    Args:\n",
        "        s (str): SMILES of a drug\n",
        "        radius (int): ECFP radius\n",
        "        bBits (int): size of binary representation\n",
        "\n",
        "    Return ():\n",
        "        morgan fingerprint \n",
        "    \"\"\"\n",
        "    try:\n",
        "        mol = Chem.MolFromSmiles(s)\n",
        "        features_vec = AllChem.GetMorganFingerprintAsBitVect(mol, radius, nBits=nBits)\n",
        "        features = np.zeros((1,))\n",
        "        DataStructs.ConvertToNumpyArray(features_vec, features)\n",
        "    except:\n",
        "        print('rdkit not found this smiles for morgan: ' + s + ' convert to all 0 features')\n",
        "        features = np.zeros((nBits, ))\n",
        "        \n",
        "    return features"
      ],
      "metadata": {
        "id": "9tPriyVeyTRb"
      },
      "execution_count": null,
      "outputs": []
    },
    {
      "cell_type": "code",
      "source": [
        "# adapting pre-prdcessing function\n",
        "for mode in ['train', 'valid', 'test']:  \n",
        "  # add columns\n",
        "  split[mode]['embedding'] = split[mode]['Drug'].apply(smiles2morgan)\n",
        "  split[mode]['Y_binary'] = split[mode]['Y'].apply(lambda x: int(x < 2))"
      ],
      "metadata": {
        "id": "LvQ0aaMExmBI"
      },
      "execution_count": null,
      "outputs": []
    },
    {
      "cell_type": "code",
      "source": [
        "split[\"test\"]"
      ],
      "metadata": {
        "colab": {
          "base_uri": "https://localhost:8080/",
          "height": 803
        },
        "id": "uZDnbUO5zylE",
        "outputId": "cebb3431-9ccb-4aaa-ceed-7e31dadd87d6"
      },
      "execution_count": null,
      "outputs": [
        {
          "output_type": "execute_result",
          "data": {
            "text/plain": [
              "                                                Drug_ID  \\\n",
              "0     Ether, alpha-(bromomethyl)-p-cyclopentylbenzyl...   \n",
              "1                               Benzene, 1,4-dinitroso-   \n",
              "2     Succinic acid, mercapto-, diethyl ester, S-est...   \n",
              "3          Phosphorodithioic acid, O,S,S-triethyl ester   \n",
              "4                                Phenol, 2-octyl- (9CI)   \n",
              "...                                                 ...   \n",
              "1472  1H-1,2,4-Triazole, 1-((2-(2,4-dichlorophenyl)-...   \n",
              "1473  Phosphorothioic acid, O-(3-chloro-4-nitropheny...   \n",
              "1474  Dibenz(b,f)oxepin-2-acetic acid, 10,11-dihydro...   \n",
              "1475  Phosphorothioic acid, O,O-dimethyl S-(2-(ethyl...   \n",
              "1476  Cyclopropanecarboxylic acid, 2,2-dimethyl-3-(2...   \n",
              "\n",
              "                                             Drug      Y  \\\n",
              "0                    CCCCOC(CBr)c1ccc(C2CCCC2)cc1  3.114   \n",
              "1                                O=Nc1ccc(N=O)cc1  2.125   \n",
              "2                CCOC(=O)CC(SP(=O)(OC)SC)C(=O)OCC  3.466   \n",
              "3                                CCOP(=O)(SCC)SCC  3.185   \n",
              "4                               CCCCCCCCc1ccccc1O  1.867   \n",
              "...                                           ...    ...   \n",
              "1472         CCCC1COC(Cn2cncn2)(c2ccc(Cl)cc2Cl)O1  2.353   \n",
              "1473     CCOP(=S)(OCC)Oc1ccc([N+](=O)[O-])c(Cl)c1  3.814   \n",
              "1474        Cc1ccc2c(c1)CC(=O)c1cc(CC(=O)O)ccc1O2  2.937   \n",
              "1475                    CCS(=O)(=O)CCSP(=O)(OC)OC  3.908   \n",
              "1476  CC(C)=CC1C(C(=O)OCc2coc(Cc3ccccc3)c2)C1(C)C  3.730   \n",
              "\n",
              "                                              embedding  Y_binary  \n",
              "0     [0.0, 1.0, 0.0, 1.0, 1.0, 0.0, 0.0, 0.0, 0.0, ...         0  \n",
              "1     [0.0, 0.0, 0.0, 0.0, 0.0, 0.0, 0.0, 0.0, 0.0, ...         0  \n",
              "2     [0.0, 1.0, 0.0, 0.0, 0.0, 0.0, 0.0, 0.0, 0.0, ...         0  \n",
              "3     [0.0, 0.0, 0.0, 0.0, 0.0, 0.0, 0.0, 0.0, 0.0, ...         0  \n",
              "4     [0.0, 0.0, 0.0, 0.0, 0.0, 0.0, 0.0, 0.0, 0.0, ...         1  \n",
              "...                                                 ...       ...  \n",
              "1472  [1.0, 0.0, 0.0, 0.0, 0.0, 0.0, 0.0, 0.0, 0.0, ...         0  \n",
              "1473  [0.0, 0.0, 0.0, 0.0, 0.0, 0.0, 0.0, 0.0, 0.0, ...         0  \n",
              "1474  [0.0, 0.0, 0.0, 0.0, 0.0, 0.0, 0.0, 0.0, 0.0, ...         0  \n",
              "1475  [0.0, 0.0, 0.0, 0.0, 0.0, 0.0, 0.0, 0.0, 0.0, ...         0  \n",
              "1476  [0.0, 0.0, 0.0, 0.0, 0.0, 0.0, 0.0, 0.0, 0.0, ...         0  \n",
              "\n",
              "[1477 rows x 5 columns]"
            ],
            "text/html": [
              "\n",
              "  <div id=\"df-fbad7947-8d22-42c8-b274-c22e51aa48fa\">\n",
              "    <div class=\"colab-df-container\">\n",
              "      <div>\n",
              "<style scoped>\n",
              "    .dataframe tbody tr th:only-of-type {\n",
              "        vertical-align: middle;\n",
              "    }\n",
              "\n",
              "    .dataframe tbody tr th {\n",
              "        vertical-align: top;\n",
              "    }\n",
              "\n",
              "    .dataframe thead th {\n",
              "        text-align: right;\n",
              "    }\n",
              "</style>\n",
              "<table border=\"1\" class=\"dataframe\">\n",
              "  <thead>\n",
              "    <tr style=\"text-align: right;\">\n",
              "      <th></th>\n",
              "      <th>Drug_ID</th>\n",
              "      <th>Drug</th>\n",
              "      <th>Y</th>\n",
              "      <th>embedding</th>\n",
              "      <th>Y_binary</th>\n",
              "    </tr>\n",
              "  </thead>\n",
              "  <tbody>\n",
              "    <tr>\n",
              "      <th>0</th>\n",
              "      <td>Ether, alpha-(bromomethyl)-p-cyclopentylbenzyl...</td>\n",
              "      <td>CCCCOC(CBr)c1ccc(C2CCCC2)cc1</td>\n",
              "      <td>3.114</td>\n",
              "      <td>[0.0, 1.0, 0.0, 1.0, 1.0, 0.0, 0.0, 0.0, 0.0, ...</td>\n",
              "      <td>0</td>\n",
              "    </tr>\n",
              "    <tr>\n",
              "      <th>1</th>\n",
              "      <td>Benzene, 1,4-dinitroso-</td>\n",
              "      <td>O=Nc1ccc(N=O)cc1</td>\n",
              "      <td>2.125</td>\n",
              "      <td>[0.0, 0.0, 0.0, 0.0, 0.0, 0.0, 0.0, 0.0, 0.0, ...</td>\n",
              "      <td>0</td>\n",
              "    </tr>\n",
              "    <tr>\n",
              "      <th>2</th>\n",
              "      <td>Succinic acid, mercapto-, diethyl ester, S-est...</td>\n",
              "      <td>CCOC(=O)CC(SP(=O)(OC)SC)C(=O)OCC</td>\n",
              "      <td>3.466</td>\n",
              "      <td>[0.0, 1.0, 0.0, 0.0, 0.0, 0.0, 0.0, 0.0, 0.0, ...</td>\n",
              "      <td>0</td>\n",
              "    </tr>\n",
              "    <tr>\n",
              "      <th>3</th>\n",
              "      <td>Phosphorodithioic acid, O,S,S-triethyl ester</td>\n",
              "      <td>CCOP(=O)(SCC)SCC</td>\n",
              "      <td>3.185</td>\n",
              "      <td>[0.0, 0.0, 0.0, 0.0, 0.0, 0.0, 0.0, 0.0, 0.0, ...</td>\n",
              "      <td>0</td>\n",
              "    </tr>\n",
              "    <tr>\n",
              "      <th>4</th>\n",
              "      <td>Phenol, 2-octyl- (9CI)</td>\n",
              "      <td>CCCCCCCCc1ccccc1O</td>\n",
              "      <td>1.867</td>\n",
              "      <td>[0.0, 0.0, 0.0, 0.0, 0.0, 0.0, 0.0, 0.0, 0.0, ...</td>\n",
              "      <td>1</td>\n",
              "    </tr>\n",
              "    <tr>\n",
              "      <th>...</th>\n",
              "      <td>...</td>\n",
              "      <td>...</td>\n",
              "      <td>...</td>\n",
              "      <td>...</td>\n",
              "      <td>...</td>\n",
              "    </tr>\n",
              "    <tr>\n",
              "      <th>1472</th>\n",
              "      <td>1H-1,2,4-Triazole, 1-((2-(2,4-dichlorophenyl)-...</td>\n",
              "      <td>CCCC1COC(Cn2cncn2)(c2ccc(Cl)cc2Cl)O1</td>\n",
              "      <td>2.353</td>\n",
              "      <td>[1.0, 0.0, 0.0, 0.0, 0.0, 0.0, 0.0, 0.0, 0.0, ...</td>\n",
              "      <td>0</td>\n",
              "    </tr>\n",
              "    <tr>\n",
              "      <th>1473</th>\n",
              "      <td>Phosphorothioic acid, O-(3-chloro-4-nitropheny...</td>\n",
              "      <td>CCOP(=S)(OCC)Oc1ccc([N+](=O)[O-])c(Cl)c1</td>\n",
              "      <td>3.814</td>\n",
              "      <td>[0.0, 0.0, 0.0, 0.0, 0.0, 0.0, 0.0, 0.0, 0.0, ...</td>\n",
              "      <td>0</td>\n",
              "    </tr>\n",
              "    <tr>\n",
              "      <th>1474</th>\n",
              "      <td>Dibenz(b,f)oxepin-2-acetic acid, 10,11-dihydro...</td>\n",
              "      <td>Cc1ccc2c(c1)CC(=O)c1cc(CC(=O)O)ccc1O2</td>\n",
              "      <td>2.937</td>\n",
              "      <td>[0.0, 0.0, 0.0, 0.0, 0.0, 0.0, 0.0, 0.0, 0.0, ...</td>\n",
              "      <td>0</td>\n",
              "    </tr>\n",
              "    <tr>\n",
              "      <th>1475</th>\n",
              "      <td>Phosphorothioic acid, O,O-dimethyl S-(2-(ethyl...</td>\n",
              "      <td>CCS(=O)(=O)CCSP(=O)(OC)OC</td>\n",
              "      <td>3.908</td>\n",
              "      <td>[0.0, 0.0, 0.0, 0.0, 0.0, 0.0, 0.0, 0.0, 0.0, ...</td>\n",
              "      <td>0</td>\n",
              "    </tr>\n",
              "    <tr>\n",
              "      <th>1476</th>\n",
              "      <td>Cyclopropanecarboxylic acid, 2,2-dimethyl-3-(2...</td>\n",
              "      <td>CC(C)=CC1C(C(=O)OCc2coc(Cc3ccccc3)c2)C1(C)C</td>\n",
              "      <td>3.730</td>\n",
              "      <td>[0.0, 0.0, 0.0, 0.0, 0.0, 0.0, 0.0, 0.0, 0.0, ...</td>\n",
              "      <td>0</td>\n",
              "    </tr>\n",
              "  </tbody>\n",
              "</table>\n",
              "<p>1477 rows × 5 columns</p>\n",
              "</div>\n",
              "      <button class=\"colab-df-convert\" onclick=\"convertToInteractive('df-fbad7947-8d22-42c8-b274-c22e51aa48fa')\"\n",
              "              title=\"Convert this dataframe to an interactive table.\"\n",
              "              style=\"display:none;\">\n",
              "        \n",
              "  <svg xmlns=\"http://www.w3.org/2000/svg\" height=\"24px\"viewBox=\"0 0 24 24\"\n",
              "       width=\"24px\">\n",
              "    <path d=\"M0 0h24v24H0V0z\" fill=\"none\"/>\n",
              "    <path d=\"M18.56 5.44l.94 2.06.94-2.06 2.06-.94-2.06-.94-.94-2.06-.94 2.06-2.06.94zm-11 1L8.5 8.5l.94-2.06 2.06-.94-2.06-.94L8.5 2.5l-.94 2.06-2.06.94zm10 10l.94 2.06.94-2.06 2.06-.94-2.06-.94-.94-2.06-.94 2.06-2.06.94z\"/><path d=\"M17.41 7.96l-1.37-1.37c-.4-.4-.92-.59-1.43-.59-.52 0-1.04.2-1.43.59L10.3 9.45l-7.72 7.72c-.78.78-.78 2.05 0 2.83L4 21.41c.39.39.9.59 1.41.59.51 0 1.02-.2 1.41-.59l7.78-7.78 2.81-2.81c.8-.78.8-2.07 0-2.86zM5.41 20L4 18.59l7.72-7.72 1.47 1.35L5.41 20z\"/>\n",
              "  </svg>\n",
              "      </button>\n",
              "      \n",
              "  <style>\n",
              "    .colab-df-container {\n",
              "      display:flex;\n",
              "      flex-wrap:wrap;\n",
              "      gap: 12px;\n",
              "    }\n",
              "\n",
              "    .colab-df-convert {\n",
              "      background-color: #E8F0FE;\n",
              "      border: none;\n",
              "      border-radius: 50%;\n",
              "      cursor: pointer;\n",
              "      display: none;\n",
              "      fill: #1967D2;\n",
              "      height: 32px;\n",
              "      padding: 0 0 0 0;\n",
              "      width: 32px;\n",
              "    }\n",
              "\n",
              "    .colab-df-convert:hover {\n",
              "      background-color: #E2EBFA;\n",
              "      box-shadow: 0px 1px 2px rgba(60, 64, 67, 0.3), 0px 1px 3px 1px rgba(60, 64, 67, 0.15);\n",
              "      fill: #174EA6;\n",
              "    }\n",
              "\n",
              "    [theme=dark] .colab-df-convert {\n",
              "      background-color: #3B4455;\n",
              "      fill: #D2E3FC;\n",
              "    }\n",
              "\n",
              "    [theme=dark] .colab-df-convert:hover {\n",
              "      background-color: #434B5C;\n",
              "      box-shadow: 0px 1px 3px 1px rgba(0, 0, 0, 0.15);\n",
              "      filter: drop-shadow(0px 1px 2px rgba(0, 0, 0, 0.3));\n",
              "      fill: #FFFFFF;\n",
              "    }\n",
              "  </style>\n",
              "\n",
              "      <script>\n",
              "        const buttonEl =\n",
              "          document.querySelector('#df-fbad7947-8d22-42c8-b274-c22e51aa48fa button.colab-df-convert');\n",
              "        buttonEl.style.display =\n",
              "          google.colab.kernel.accessAllowed ? 'block' : 'none';\n",
              "\n",
              "        async function convertToInteractive(key) {\n",
              "          const element = document.querySelector('#df-fbad7947-8d22-42c8-b274-c22e51aa48fa');\n",
              "          const dataTable =\n",
              "            await google.colab.kernel.invokeFunction('convertToInteractive',\n",
              "                                                     [key], {});\n",
              "          if (!dataTable) return;\n",
              "\n",
              "          const docLinkHtml = 'Like what you see? Visit the ' +\n",
              "            '<a target=\"_blank\" href=https://colab.research.google.com/notebooks/data_table.ipynb>data table notebook</a>'\n",
              "            + ' to learn more about interactive tables.';\n",
              "          element.innerHTML = '';\n",
              "          dataTable['output_type'] = 'display_data';\n",
              "          await google.colab.output.renderOutput(dataTable, element);\n",
              "          const docLink = document.createElement('div');\n",
              "          docLink.innerHTML = docLinkHtml;\n",
              "          element.appendChild(docLink);\n",
              "        }\n",
              "      </script>\n",
              "    </div>\n",
              "  </div>\n",
              "  "
            ]
          },
          "metadata": {},
          "execution_count": 11
        }
      ]
    },
    {
      "cell_type": "markdown",
      "source": [
        "# **Torch Dataset & Data Loader for batch**"
      ],
      "metadata": {
        "id": "eXgJyrRCz9aq"
      }
    },
    {
      "cell_type": "code",
      "source": [
        "import torch\n",
        "from torch import nn \n",
        "import torch.nn.functional as F\n",
        "from torch.utils import data"
      ],
      "metadata": {
        "id": "dupvo_H20FM4"
      },
      "execution_count": null,
      "outputs": []
    },
    {
      "cell_type": "code",
      "source": [
        "class data_process_loader(data.Dataset):\n",
        "\n",
        "    def __init__(self, df):\n",
        "        self.df = df\n",
        "\n",
        "    def __len__(self):\n",
        "        return self.df.shape[0]\n",
        "\n",
        "    def __getitem__(self, index):\n",
        "        v_d = self.df.iloc[index]['embedding']  # input\n",
        "        y = self.df.iloc[index]['Y_binary'] # label\n",
        "\n",
        "        return v_d, y"
      ],
      "metadata": {
        "id": "UPAVEFPP0c0I"
      },
      "execution_count": null,
      "outputs": []
    },
    {
      "cell_type": "code",
      "source": [
        "train_dataset = data_process_loader(split[\"train\"])\n",
        "valid_dataset = data_process_loader(split[\"valid\"])\n",
        "test_dataset = data_process_loader(split[\"test\"])"
      ],
      "metadata": {
        "id": "x98U2VWY0kOU"
      },
      "execution_count": null,
      "outputs": []
    },
    {
      "cell_type": "code",
      "source": [
        "# hyperparameter for Data Loader\n",
        "params = {'batch_size': 64,\n",
        "        'shuffle': True,\n",
        "        'num_workers': 1,\n",
        "        'drop_last': False}"
      ],
      "metadata": {
        "id": "kyqxEWDV0op8"
      },
      "execution_count": null,
      "outputs": []
    },
    {
      "cell_type": "code",
      "source": [
        "train_loader = data.DataLoader(train_dataset, **params)\n",
        "valid_loader = data.DataLoader(valid_dataset, **params)\n",
        "test_loader = data.DataLoader(test_dataset, **params)"
      ],
      "metadata": {
        "id": "IebE52Ll03Bs"
      },
      "execution_count": null,
      "outputs": []
    },
    {
      "cell_type": "code",
      "source": [
        "for v_d, y in train_loader:\n",
        "    print(v_d)\n",
        "    print(v_d.shape)\n",
        "    print()\n",
        "    print(y)\n",
        "    print(y.shape)\n",
        "    break"
      ],
      "metadata": {
        "colab": {
          "base_uri": "https://localhost:8080/"
        },
        "id": "glXu2oWi1FZ0",
        "outputId": "850ad2e9-bc04-4a67-b507-718d20185944"
      },
      "execution_count": null,
      "outputs": [
        {
          "output_type": "stream",
          "name": "stdout",
          "text": [
            "tensor([[0., 1., 0.,  ..., 0., 0., 0.],\n",
            "        [0., 0., 0.,  ..., 0., 0., 0.],\n",
            "        [0., 0., 0.,  ..., 0., 0., 0.],\n",
            "        ...,\n",
            "        [0., 0., 0.,  ..., 0., 0., 0.],\n",
            "        [0., 0., 0.,  ..., 0., 0., 0.],\n",
            "        [0., 0., 0.,  ..., 0., 0., 0.]], dtype=torch.float64)\n",
            "torch.Size([64, 1024])\n",
            "\n",
            "tensor([1, 0, 0, 0, 1, 1, 0, 1, 0, 0, 0, 0, 0, 1, 1, 0, 0, 0, 1, 0, 1, 0, 0, 0,\n",
            "        0, 0, 0, 0, 0, 0, 0, 0, 1, 0, 0, 0, 0, 1, 1, 1, 1, 1, 0, 0, 1, 1, 0, 0,\n",
            "        0, 1, 0, 0, 0, 0, 0, 1, 1, 1, 1, 0, 1, 0, 0, 0])\n",
            "torch.Size([64])\n"
          ]
        }
      ]
    },
    {
      "cell_type": "markdown",
      "source": [
        "# **MODEL**"
      ],
      "metadata": {
        "id": "_aKiXvLL1f0I"
      }
    },
    {
      "cell_type": "markdown",
      "source": [
        "# **Feature Extractor**"
      ],
      "metadata": {
        "id": "1MorLkk21jzV"
      }
    },
    {
      "cell_type": "code",
      "source": [
        "class MLP(nn.Sequential):\n",
        "\tdef __init__(self, input_dim, output_dim, hidden_dims_lst):\n",
        "\n",
        "\t\tsuper(MLP, self).__init__()\n",
        "  \n",
        "\t\t# Feature extractor layer size \n",
        "\t\tlayer_size = len(hidden_dims_lst) + 1\n",
        "\n",
        "\t\t# dropout\n",
        "\t\tself.dropout = nn.Dropout(0.3)\n",
        "\n",
        "\t\tdims = [input_dim] + hidden_dims_lst + [output_dim]\n",
        "\n",
        "\t\t# linear layer\n",
        "\t\tself.predictor = nn.ModuleList([nn.Linear(dims[i], dims[i+1]) for i in range(layer_size)])\n",
        "\n",
        "\tdef forward(self, v):\n",
        "\t\tv = v.float().to(device)\n",
        "\t\tfor i, l in enumerate(self.predictor):\n",
        "\t\t\tv = F.relu(self.dropout(l(v)))\n",
        "\t\treturn v  "
      ],
      "metadata": {
        "id": "ECqD9rSR1u1m"
      },
      "execution_count": null,
      "outputs": []
    },
    {
      "cell_type": "markdown",
      "source": [
        "# **Classifier**"
      ],
      "metadata": {
        "id": "TQhBZv2r2QIR"
      }
    },
    {
      "cell_type": "code",
      "source": [
        "class Classifier(nn.Sequential):\n",
        "\tdef __init__(self, model_drug, hidden_dim_drug, cls_hidden_dims):\n",
        "\t\t\n",
        "\t\tsuper(Classifier, self).__init__()\n",
        "  \n",
        "\t\t# feature extractor\n",
        "\t\tself.model_drug = model_drug\n",
        "\n",
        "\t\t# dropout\n",
        "\t\tself.dropout = nn.Dropout(0.3)\n",
        "  \n",
        "\t\t# classifier input dim\n",
        "\t\tself.input_dim_drug = hidden_dim_drug\n",
        "\n",
        "\t\t# classifier hidden dim\n",
        "\t\tself.hidden_dims = cls_hidden_dims\n",
        "\n",
        "\t\t# classifier layer size including output layer\n",
        "\t\tlayer_size = len(self.hidden_dims) + 1\n",
        "\n",
        "\t\t# list that has each size of dim every layer\n",
        "\t\tdims = [self.input_dim_drug] + self.hidden_dims + [2]\n",
        "\t\t\n",
        "\t\t# linear layer\n",
        "\t\tself.predictor = nn.ModuleList([nn.Linear(dims[i], dims[i+1]) for i in range(layer_size)])\n",
        "\n",
        "\tdef forward(self, v_D):\n",
        "\t\t# encoding input data of feature extractor\n",
        "\t\tv_f = self.model_drug(v_D)\n",
        "\t\t\n",
        "\t\t# forword-pass with classify \n",
        "\t\tfor i, l in enumerate(self.predictor):\n",
        "\t\t\tif i==(len(self.predictor)-1):\n",
        "\t\t\t\tv_f = l(v_f)\n",
        "\t\t\telse:\n",
        "\t\t\t\tv_f = F.relu(self.dropout(l(v_f)))\n",
        "\t\treturn v_f "
      ],
      "metadata": {
        "id": "OELiMnK32T4Q"
      },
      "execution_count": null,
      "outputs": []
    },
    {
      "cell_type": "code",
      "source": [
        "# model hyperparameter\n",
        "input_dim_drug = 1024\n",
        "hidden_dim_drug = 256\n",
        "cls_hidden_dims = [512]\n",
        "mlp_hidden_dims_drug = [1024]"
      ],
      "metadata": {
        "id": "poX5WVMU2g9b"
      },
      "execution_count": null,
      "outputs": []
    },
    {
      "cell_type": "code",
      "source": [
        "model_drug = MLP(1024, hidden_dim_drug, mlp_hidden_dims_drug)"
      ],
      "metadata": {
        "id": "K5Aw4Gbd3Qno"
      },
      "execution_count": null,
      "outputs": []
    },
    {
      "cell_type": "code",
      "source": [
        "model_drug"
      ],
      "metadata": {
        "colab": {
          "base_uri": "https://localhost:8080/"
        },
        "id": "clKC3D073S_f",
        "outputId": "c2f86bf6-16b6-4fa9-a705-b858a1cdfb48"
      },
      "execution_count": null,
      "outputs": [
        {
          "output_type": "execute_result",
          "data": {
            "text/plain": [
              "MLP(\n",
              "  (dropout): Dropout(p=0.3, inplace=False)\n",
              "  (predictor): ModuleList(\n",
              "    (0): Linear(in_features=1024, out_features=1024, bias=True)\n",
              "    (1): Linear(in_features=1024, out_features=256, bias=True)\n",
              "  )\n",
              ")"
            ]
          },
          "metadata": {},
          "execution_count": 22
        }
      ]
    },
    {
      "cell_type": "markdown",
      "source": [
        "# **MODEL Training**"
      ],
      "metadata": {
        "id": "5N70vdim3aii"
      }
    },
    {
      "cell_type": "code",
      "source": [
        "# hyperparameter for model training\n",
        "learning_rate = 0.0001\n",
        "decay         = 0.00001\n",
        "train_epoch   = 50"
      ],
      "metadata": {
        "id": "tk40dDdi3fX-"
      },
      "execution_count": null,
      "outputs": []
    },
    {
      "cell_type": "code",
      "source": [
        "# optimizer \n",
        "opt = torch.optim.Adam(model_drug.parameters(), lr = learning_rate, weight_decay = decay)\n",
        "loss_fn = torch.nn.CrossEntropyLoss()"
      ],
      "metadata": {
        "id": "Ov9B-7q43kkF"
      },
      "execution_count": null,
      "outputs": []
    },
    {
      "cell_type": "code",
      "source": [
        "device = torch.device('cuda' if torch.cuda.is_available() else 'cpu')\n",
        "print(f\"Current Device: {device}\")"
      ],
      "metadata": {
        "colab": {
          "base_uri": "https://localhost:8080/"
        },
        "id": "9QtbixUf4Gm4",
        "outputId": "424b0bd6-f9b0-4c81-a4fb-b6bc63b5f8dc"
      },
      "execution_count": null,
      "outputs": [
        {
          "output_type": "stream",
          "name": "stdout",
          "text": [
            "Current Device: cuda\n"
          ]
        }
      ]
    },
    {
      "cell_type": "code",
      "source": [
        "import copy\n",
        "from prettytable import PrettyTable\n",
        "from time import time\n",
        "from sklearn.metrics import classification_report, roc_auc_score, roc_curve, confusion_matrix"
      ],
      "metadata": {
        "id": "OI9xHdse30RB"
      },
      "execution_count": null,
      "outputs": []
    },
    {
      "cell_type": "code",
      "source": [
        "loss_history_train = []\n",
        "loss_history_val = []\n",
        "\n",
        "min_acc = 0\n",
        "\n",
        "# 모델 GPU 메모리에 올리기\n",
        "model_drug = model_drug.to(device)\n",
        "\n",
        "# Best 모델 초기화\n",
        "model_best = copy.deepcopy(model_drug)\n",
        "\n",
        "# 결과 정리를 위한 PrettyTable\n",
        "valid_metric_record = []\n",
        "valid_metric_header = [\"# epoch\"] \n",
        "valid_metric_header.extend([\"Accuracy\", \"sensitivity\", \"specificity\", \"roc_score\"])\n",
        "table = PrettyTable(valid_metric_header)\n",
        "\n",
        "float2str = lambda x:'%0.4f'%x # float 소숫점 4자리까지만 str로 바꾸기 \n",
        "\n",
        "# 학습 진행\n",
        "print('--- Go for Training ---')\n",
        "# 학습 시작 시간 기록 \n",
        "t_start = time() \n",
        "\n",
        "for epo in range(train_epoch):\n",
        "    # Model training \n",
        "    model_drug.train()\n",
        "    \n",
        "    # Mini-batch 학습 \n",
        "    for i, (v_d, label) in enumerate(train_loader):\n",
        "        # input data gpu에 올리기 \n",
        "        v_d = v_d.float().to(device) \n",
        "        # forward-pass\n",
        "        output = model_drug(v_d)\n",
        "\n",
        "        # 미리 정의한 손실함수(MSE)로 손실(loss) 계산 \n",
        "        loss = loss_fn(output, label.to(device))\n",
        "\n",
        "        # 각 iteration 마다 loss 기록 \n",
        "        loss_history_train.append(loss.item())\n",
        "\n",
        "        # gradient 초기화\n",
        "        opt.zero_grad()\n",
        "        # back propagation\n",
        "        loss.backward()\n",
        "        # parameter update\n",
        "        opt.step()\n",
        "    \n",
        "    # gradient tracking X\n",
        "    with torch.set_grad_enabled(False):\n",
        "        \n",
        "        y_pred = []\n",
        "        y_score = []\n",
        "        y_label = []\n",
        "        # model_drug validation\n",
        "        model_drug.eval()\n",
        "\n",
        "        for i, (v_d, label) in enumerate(valid_loader):\n",
        "            # input data gpu에 올리기 \n",
        "            v_d = v_d.float().to(device) \n",
        "            # forward-pass\n",
        "            output = model_drug(v_d)\n",
        "\n",
        "            # 미리 정의한 손실함수(MSE)로 손실(loss) 계산 \n",
        "            loss = loss_fn(output, label.to(device))\n",
        "\n",
        "            # 각 iteration 마다 loss 기록 \n",
        "            loss_history_val.append(loss.item())\n",
        "\n",
        "            pred = output.argmax(dim=1, keepdim=True)\n",
        "            score = nn.Softmax(dim = 1)(output)[:,1]\n",
        "\n",
        "            # 예측값, 참값 cpu로 옮기고 numpy 형으로 변환\n",
        "            pred = pred.cpu().numpy()\n",
        "            score = score.cpu().numpy()\n",
        "            label = label.cpu().numpy()\n",
        "\n",
        "            # 예측값, 참값 기록하기\n",
        "            y_label = y_label + label.flatten().tolist()\n",
        "            y_pred = y_pred + pred.flatten().tolist()\n",
        "            y_score = y_score + score.flatten().tolist()\n",
        "    \n",
        "    # metric 계산\n",
        "    classification_metrics = classification_report(y_label, y_pred,\n",
        "                        target_names = ['NonToxic', 'Toxic'],\n",
        "                        output_dict= True)\n",
        "    \n",
        "    # sensitivity is the recall of the positive class\n",
        "    sensitivity = classification_metrics['Toxic']['recall']\n",
        "    # specificity is the recall of the negative class \n",
        "    specificity = classification_metrics['NonToxic']['recall']\n",
        "    # accuracy\n",
        "    accuracy = classification_metrics['accuracy']\n",
        "    # confusion matrix\n",
        "    conf_matrix = confusion_matrix(y_label, y_pred)\n",
        "    # roc score\n",
        "    roc_score = roc_auc_score(y_label, y_score)\n",
        "\n",
        "\n",
        "    # 계산한 metric 합치기\n",
        "    lst = [\"epoch \" + str(epo)] + list(map(float2str,[accuracy, sensitivity, specificity, roc_score]))\n",
        "\n",
        "    # 각 epoch 마다 결과값 pretty table에 기록\n",
        "    table.add_row(lst)\n",
        "    valid_metric_record.append(lst)\n",
        "    \n",
        "    # mse 기준으로 best model 업데이트\n",
        "    if accuracy > min_acc:\n",
        "        # best model deepcopy \n",
        "        model_best = copy.deepcopy(model_drug)\n",
        "        # max MSE 업데이트 \n",
        "        min_acc = accuracy\n",
        "\n",
        "    # 각 epoch 마다 결과 출력 \n",
        "    print('Validation at Epoch '+ str(epo + 1) + ' , Accuracy: ' + str(accuracy)[:7] + ' , sensitivity: '\\\n",
        "\t\t\t\t\t\t + str(sensitivity)[:7] + ', specificity: ' + str(f\"{specificity}\") +' , roc_score: '+str(roc_score)[:7])"
      ],
      "metadata": {
        "colab": {
          "base_uri": "https://localhost:8080/"
        },
        "id": "oTDJ-9mr33HC",
        "outputId": "ee8a822d-80d7-4f09-b393-2a36f9a0c4ac"
      },
      "execution_count": null,
      "outputs": [
        {
          "output_type": "stream",
          "name": "stdout",
          "text": [
            "--- Go for Training ---\n",
            "Validation at Epoch 1 , Accuracy: 0.70325 , sensitivity: 0.0, specificity: 1.0 , roc_score: 0.37340\n",
            "Validation at Epoch 2 , Accuracy: 0.70325 , sensitivity: 0.0, specificity: 1.0 , roc_score: 0.42688\n",
            "Validation at Epoch 3 , Accuracy: 0.74254 , sensitivity: 0.17351, specificity: 0.9826589595375722 , roc_score: 0.54846\n",
            "Validation at Epoch 4 , Accuracy: 0.76693 , sensitivity: 0.31506, specificity: 0.9576107899807321 , roc_score: 0.64212\n",
            "Validation at Epoch 5 , Accuracy: 0.78997 , sensitivity: 0.40639, specificity: 0.9518304431599229 , roc_score: 0.70234\n",
            "Validation at Epoch 6 , Accuracy: 0.78997 , sensitivity: 0.49771, specificity: 0.9132947976878613 , roc_score: 0.73198\n",
            "Validation at Epoch 7 , Accuracy: 0.80352 , sensitivity: 0.55251, specificity: 0.9094412331406551 , roc_score: 0.75724\n",
            "Validation at Epoch 8 , Accuracy: 0.80758 , sensitivity: 0.56164, specificity: 0.9113680154142582 , roc_score: 0.78108\n",
            "Validation at Epoch 9 , Accuracy: 0.80758 , sensitivity: 0.57990, specificity: 0.9036608863198459 , roc_score: 0.79545\n",
            "Validation at Epoch 10 , Accuracy: 0.80081 , sensitivity: 0.56164, specificity: 0.9017341040462428 , roc_score: 0.80732\n",
            "Validation at Epoch 11 , Accuracy: 0.80081 , sensitivity: 0.59817, specificity: 0.8863198458574181 , roc_score: 0.81055\n",
            "Validation at Epoch 12 , Accuracy: 0.79403 , sensitivity: 0.61643, specificity: 0.8689788053949904 , roc_score: 0.81544\n",
            "Validation at Epoch 13 , Accuracy: 0.80623 , sensitivity: 0.59360, specificity: 0.8959537572254336 , roc_score: 0.82469\n",
            "Validation at Epoch 14 , Accuracy: 0.80487 , sensitivity: 0.59817, specificity: 0.8921001926782274 , roc_score: 0.83060\n",
            "Validation at Epoch 15 , Accuracy: 0.79810 , sensitivity: 0.62100, specificity: 0.8728323699421965 , roc_score: 0.83262\n",
            "Validation at Epoch 16 , Accuracy: 0.80623 , sensitivity: 0.58904, specificity: 0.8978805394990366 , roc_score: 0.83944\n",
            "Validation at Epoch 17 , Accuracy: 0.80081 , sensitivity: 0.62100, specificity: 0.8766859344894027 , roc_score: 0.84028\n",
            "Validation at Epoch 18 , Accuracy: 0.80352 , sensitivity: 0.60273, specificity: 0.8882466281310212 , roc_score: 0.84131\n",
            "Validation at Epoch 19 , Accuracy: 0.80487 , sensitivity: 0.60730, specificity: 0.8882466281310212 , roc_score: 0.84225\n",
            "Validation at Epoch 20 , Accuracy: 0.79268 , sensitivity: 0.62557, specificity: 0.8631984585741811 , roc_score: 0.84477\n",
            "Validation at Epoch 21 , Accuracy: 0.79945 , sensitivity: 0.63013, specificity: 0.8709055876685935 , roc_score: 0.84798\n",
            "Validation at Epoch 22 , Accuracy: 0.79674 , sensitivity: 0.63013, specificity: 0.8670520231213873 , roc_score: 0.84916\n",
            "Validation at Epoch 23 , Accuracy: 0.80081 , sensitivity: 0.62557, specificity: 0.8747591522157996 , roc_score: 0.84946\n",
            "Validation at Epoch 24 , Accuracy: 0.80216 , sensitivity: 0.62100, specificity: 0.8786127167630058 , roc_score: 0.85045\n",
            "Validation at Epoch 25 , Accuracy: 0.79674 , sensitivity: 0.61187, specificity: 0.8747591522157996 , roc_score: 0.84994\n",
            "Validation at Epoch 26 , Accuracy: 0.79810 , sensitivity: 0.59360, specificity: 0.884393063583815 , roc_score: 0.85126\n",
            "Validation at Epoch 27 , Accuracy: 0.80352 , sensitivity: 0.62557, specificity: 0.8786127167630058 , roc_score: 0.85116\n",
            "Validation at Epoch 28 , Accuracy: 0.80352 , sensitivity: 0.66210, specificity: 0.8631984585741811 , roc_score: 0.85231\n",
            "Validation at Epoch 29 , Accuracy: 0.80623 , sensitivity: 0.63013, specificity: 0.8805394990366089 , roc_score: 0.85244\n",
            "Validation at Epoch 30 , Accuracy: 0.80487 , sensitivity: 0.62557, specificity: 0.8805394990366089 , roc_score: 0.85128\n",
            "Validation at Epoch 31 , Accuracy: 0.81029 , sensitivity: 0.64383, specificity: 0.8805394990366089 , roc_score: 0.85085\n",
            "Validation at Epoch 32 , Accuracy: 0.81029 , sensitivity: 0.63470, specificity: 0.884393063583815 , roc_score: 0.85193\n",
            "Validation at Epoch 33 , Accuracy: 0.80894 , sensitivity: 0.65296, specificity: 0.8747591522157996 , roc_score: 0.85367\n",
            "Validation at Epoch 34 , Accuracy: 0.80487 , sensitivity: 0.66666, specificity: 0.8631984585741811 , roc_score: 0.85199\n",
            "Validation at Epoch 35 , Accuracy: 0.80894 , sensitivity: 0.64840, specificity: 0.8766859344894027 , roc_score: 0.85199\n",
            "Validation at Epoch 36 , Accuracy: 0.80758 , sensitivity: 0.63013, specificity: 0.882466281310212 , roc_score: 0.85388\n",
            "Validation at Epoch 37 , Accuracy: 0.80352 , sensitivity: 0.66666, specificity: 0.861271676300578 , roc_score: 0.85338\n",
            "Validation at Epoch 38 , Accuracy: 0.81165 , sensitivity: 0.66666, specificity: 0.8728323699421965 , roc_score: 0.85441\n",
            "Validation at Epoch 39 , Accuracy: 0.80487 , sensitivity: 0.68036, specificity: 0.8574181117533719 , roc_score: 0.85430\n",
            "Validation at Epoch 40 , Accuracy: 0.81436 , sensitivity: 0.67123, specificity: 0.8747591522157996 , roc_score: 0.85410\n",
            "Validation at Epoch 41 , Accuracy: 0.80894 , sensitivity: 0.66666, specificity: 0.8689788053949904 , roc_score: 0.85275\n",
            "Validation at Epoch 42 , Accuracy: 0.80081 , sensitivity: 0.68949, specificity: 0.8477842003853564 , roc_score: 0.85418\n",
            "Validation at Epoch 43 , Accuracy: 0.79945 , sensitivity: 0.67579, specificity: 0.8516377649325626 , roc_score: 0.85370\n",
            "Validation at Epoch 44 , Accuracy: 0.80081 , sensitivity: 0.67123, specificity: 0.8554913294797688 , roc_score: 0.85414\n",
            "Validation at Epoch 45 , Accuracy: 0.80758 , sensitivity: 0.66666, specificity: 0.8670520231213873 , roc_score: 0.85325\n",
            "Validation at Epoch 46 , Accuracy: 0.80487 , sensitivity: 0.68036, specificity: 0.8574181117533719 , roc_score: 0.85372\n",
            "Validation at Epoch 47 , Accuracy: 0.80758 , sensitivity: 0.68036, specificity: 0.861271676300578 , roc_score: 0.85425\n",
            "Validation at Epoch 48 , Accuracy: 0.80623 , sensitivity: 0.69406, specificity: 0.8535645472061657 , roc_score: 0.85353\n",
            "Validation at Epoch 49 , Accuracy: 0.80623 , sensitivity: 0.67579, specificity: 0.861271676300578 , roc_score: 0.85298\n",
            "Validation at Epoch 50 , Accuracy: 0.81300 , sensitivity: 0.68493, specificity: 0.8670520231213873 , roc_score: 0.85335\n"
          ]
        }
      ]
    },
    {
      "cell_type": "markdown",
      "source": [
        "# **Model Testing**"
      ],
      "metadata": {
        "id": "42jLnnD45ndE"
      }
    },
    {
      "cell_type": "code",
      "source": [
        "model = model_best\n",
        "\n",
        "y_pred = []\n",
        "y_label = []\n",
        "y_score = []\n",
        "\n",
        "model.eval()\n",
        "for i, (v_d, label) in enumerate(valid_loader):\n",
        "    # input data gpu에 올리기 \n",
        "    v_d = v_d.float().to(device) \n",
        "\n",
        "    with torch.set_grad_enabled(False):\n",
        "        # forward-pass\n",
        "        output = model(v_d)\n",
        "\n",
        "        # 미리 정의한 손실함수(MSE)로 손실(loss) 계산 \n",
        "        loss = loss_fn(output, label.to(device))\n",
        "\n",
        "        # 각 iteration 마다 loss 기록 \n",
        "        loss_history_val.append(loss.item())\n",
        "\n",
        "        pred = output.argmax(dim=1, keepdim=True)\n",
        "        score = nn.Softmax(dim = 1)(output)[:,1]\n",
        "\n",
        "        # \b예측값, 참값 cpu로 옮기고 numpy 형으로 변환\n",
        "        pred = pred.cpu().numpy()\n",
        "        score = score.cpu().numpy()\n",
        "        label = label.cpu().numpy()\n",
        "\n",
        "    # 예측값, 참값 기록하기\n",
        "    y_label = y_label + label.flatten().tolist()\n",
        "    y_pred = y_pred + pred.flatten().tolist()\n",
        "    y_score = y_score + score.flatten().tolist()\n",
        "\n",
        "# metric 계산\n",
        "classification_metrics = classification_report(y_label, y_pred,\n",
        "                    target_names = ['NonToxic', 'Toxic'],\n",
        "                    output_dict= True)\n",
        "# sensitivity is the recall of the positive class\n",
        "sensitivity = classification_metrics['Toxic']['recall']\n",
        "# specificity is the recall of the negative class \n",
        "specificity = classification_metrics['NonToxic']['recall']\n",
        "# accuracy\n",
        "accuracy = classification_metrics['accuracy']\n",
        "# confusion matrix\n",
        "conf_matrix = confusion_matrix(y_label, y_pred)\n",
        "# roc score\n",
        "roc_score = roc_auc_score(y_label, y_score)\n",
        "\n",
        "# 각 epoch 마다 결과 출력 \n",
        "print('TestSet Performance Metric'+ str(epo + 1) + ' , Accuracy: ' + str(accuracy)[:7] + ' , sensitivity: '\\\n",
        "                        + str(sensitivity)[:7] + ' specificity: ' + str(f\"{specificity}\") +' , roc_score: '+str(roc_score)[:7])"
      ],
      "metadata": {
        "colab": {
          "base_uri": "https://localhost:8080/"
        },
        "id": "YDQNhqFH5qic",
        "outputId": "10f8ee24-8267-43b7-e7b8-e511edb07b7f"
      },
      "execution_count": null,
      "outputs": [
        {
          "output_type": "stream",
          "name": "stdout",
          "text": [
            "TestSet Performance Metric50 , Accuracy: 0.81436 , sensitivity: 0.67123 specificity: 0.8747591522157996 , roc_score: 0.85410\n"
          ]
        }
      ]
    },
    {
      "cell_type": "code",
      "source": [
        "import matplotlib.pyplot as plt"
      ],
      "metadata": {
        "id": "fDjtxN2458MI"
      },
      "execution_count": null,
      "outputs": []
    },
    {
      "cell_type": "code",
      "source": [
        "# plot the roc curve    \n",
        "fpr, tpr, _ = roc_curve(y_label, y_score)\n",
        "plt.plot(fpr, tpr, label = \"Area under ROC = {:.4f}\".format(roc_score))\n",
        "plt.legend(loc = 'best')\n",
        "plt.xlabel('False Positive Rate')\n",
        "plt.ylabel('True Positive Rate')\n",
        "plt.show()"
      ],
      "metadata": {
        "colab": {
          "base_uri": "https://localhost:8080/",
          "height": 449
        },
        "id": "DCw502RA5_nA",
        "outputId": "1f56d44d-8302-4f60-c7da-9c0445af97d0"
      },
      "execution_count": null,
      "outputs": [
        {
          "output_type": "display_data",
          "data": {
            "text/plain": [
              "<Figure size 640x480 with 1 Axes>"
            ],
            "image/png": "[encoded data removed]"
          },
          "metadata": {}
        }
      ]
    },
    {
      "cell_type": "code",
      "source": [
        "import seaborn as sns\n",
        "\n",
        "conf_matrix = conf_matrix\n",
        "ax= plt.subplot()\n",
        "sns.heatmap(conf_matrix, annot=True, ax = ax, cmap = 'Blues'); #annot=True to annotate cells\n",
        "\n",
        "# labels, title and ticks\n",
        "ax.set_xlabel('Predicted labels');ax.set_ylabel('True labels'); \n",
        "ax.set_title('Confusion Matrix'); \n",
        "ax.xaxis.set_ticklabels(['Toxic', 'NonToxic']); ax.yaxis.set_ticklabels(['Toxic', 'NonToxic']);"
      ],
      "metadata": {
        "colab": {
          "base_uri": "https://localhost:8080/",
          "height": 472
        },
        "id": "4AslzGRg6CfR",
        "outputId": "8cf07c6d-7b38-48a1-a5eb-0608ecffb656"
      },
      "execution_count": null,
      "outputs": [
        {
          "output_type": "display_data",
          "data": {
            "text/plain": [
              "<Figure size 640x480 with 2 Axes>"
            ],
            "image/png": "[encoded data removed]"
          },
          "metadata": {}
        }
      ]
    }
  ]
}